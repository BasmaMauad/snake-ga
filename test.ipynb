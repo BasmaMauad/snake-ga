{
 "cells": [
  {
   "cell_type": "code",
   "execution_count": 1,
   "metadata": {
    "scrolled": true
   },
   "outputs": [
    {
     "name": "stdout",
     "output_type": "stream",
     "text": [
      "pygame 1.9.4\n",
      "Hello from the pygame community. https://www.pygame.org/contribute.html\n"
     ]
    },
    {
     "name": "stderr",
     "output_type": "stream",
     "text": [
      "Using TensorFlow backend.\n",
      "/home/basma/snake-ga/gym_snake/envs/snake_env.py:92: UserWarning: Update your `Dense` call to the Keras 2 API: `Dense(activation=\"relu\", input_dim=11, units=120)`\n",
      "  model.add(Dense(output_dim=120, activation='relu', input_dim=11))\n",
      "/home/basma/snake-ga/gym_snake/envs/snake_env.py:94: UserWarning: Update your `Dense` call to the Keras 2 API: `Dense(activation=\"relu\", units=120)`\n",
      "  model.add(Dense(output_dim=120, activation='relu'))\n",
      "/home/basma/snake-ga/gym_snake/envs/snake_env.py:96: UserWarning: Update your `Dense` call to the Keras 2 API: `Dense(activation=\"relu\", units=120)`\n",
      "  model.add(Dense(output_dim=120, activation='relu'))\n",
      "/home/basma/snake-ga/gym_snake/envs/snake_env.py:98: UserWarning: Update your `Dense` call to the Keras 2 API: `Dense(activation=\"softmax\", units=3)`\n",
      "  model.add(Dense(output_dim=3, activation='softmax'))\n"
     ]
    }
   ],
   "source": [
    "import gym\n",
    "import gym_snake\n",
    "\n",
    "env = gym.make('snake-v0')\n",
    "env.reset()\n",
    "env.render()"
   ]
  },
  {
   "cell_type": "code",
   "execution_count": null,
   "metadata": {},
   "outputs": [
    {
     "name": "stdout",
     "output_type": "stream",
     "text": [
      "Discrete(4)\n"
     ]
    }
   ],
   "source": [
    "print(env.action_space)\n"
   ]
  },
  {
   "cell_type": "code",
   "execution_count": null,
   "metadata": {},
   "outputs": [
    {
     "name": "stdout",
     "output_type": "stream",
     "text": [
      "0\n",
      "score : 0\n",
      "0\n",
      "Game 1       Score: 0\n",
      "reward :  -10\n",
      "0\n",
      "score : 0\n",
      "1\n",
      "Game 2       Score: 0\n",
      "reward :  -10\n",
      "0\n",
      "score : 0\n",
      "2\n",
      "Game 3       Score: 0\n",
      "reward :  -10\n",
      "0\n",
      "score : 0\n",
      "3\n",
      "Game 4       Score: 0\n",
      "reward :  -10\n",
      "0\n",
      "score : 0\n",
      "4\n",
      "Game 5       Score: 1\n",
      "reward :  -10\n",
      "0\n",
      "score : 0\n",
      "5\n",
      "Game 6       Score: 0\n",
      "reward :  -10\n",
      "0\n",
      "score : 0\n",
      "6\n",
      "Game 7       Score: 2\n",
      "reward :  -10\n",
      "0\n",
      "score : 0\n",
      "7\n"
     ]
    }
   ],
   "source": [
    "episodes=100\n",
    "for e in range(episodes):\n",
    "\t\taction = env.action_space.sample()\n",
    "\t\tstate, reward, done, _ = env.step(action)\n",
    "\t\tenv.render()\n",
    "\t\tprint(\"reward : \",reward)\n",
    "\t\tif done:\n",
    "\t\t\tbreak"
   ]
  },
  {
   "cell_type": "code",
   "execution_count": null,
   "metadata": {},
   "outputs": [],
   "source": []
  },
  {
   "cell_type": "code",
   "execution_count": null,
   "metadata": {},
   "outputs": [],
   "source": []
  }
 ],
 "metadata": {
  "kernelspec": {
   "display_name": "Python 3",
   "language": "python",
   "name": "python3"
  },
  "language_info": {
   "codemirror_mode": {
    "name": "ipython",
    "version": 3
   },
   "file_extension": ".py",
   "mimetype": "text/x-python",
   "name": "python",
   "nbconvert_exporter": "python",
   "pygments_lexer": "ipython3",
   "version": "3.6.6"
  }
 },
 "nbformat": 4,
 "nbformat_minor": 2
}
